{
 "cells": [
  {
   "cell_type": "markdown",
   "id": "5e6e1c43-1d1a-48ab-818c-abde29b17568",
   "metadata": {},
   "source": [
    "# 2022 Optiver Quantitative Researcher Application - Puzzle Solution"
   ]
  },
  {
   "cell_type": "markdown",
   "id": "af21a18e-3503-47d8-ab26-cf4ae25e268f",
   "metadata": {},
   "source": [
    "## Question"
   ]
  },
  {
   "cell_type": "markdown",
   "id": "8e9e68f0-d4a6-4e62-9055-353da59f0449",
   "metadata": {},
   "source": [
    "An ant leaves its anthill in order to forage for food. It moves with the speed of 10cm per second, but it doesn't know where to go, therefore every second it moves randomly 10cm directly north, south, east or west with equal probability.\n",
    "\n",
    "1. If the food is located on east-west lines 20cm to the north and 20cm to the south, as well as on north-south lines 20cm to the east and 20cm to the west from the anthill, how long will it take the ant to reach it on average?\n",
    "\n",
    "2. What is the average time the ant will reach food if it is located only on a diagonal line passing through (10cm, 0cm) and (0cm, 10cm) points?\n",
    "\n",
    "3. Can you write a program that comes up with an estimate of average time to find food for any closed boundary around the anthill? What would be the answer if food is located outside an defined by ( (x – 2.5cm) / 30cm )2 + ( (y – 2.5cm) / 40cm )2 < 1 in coordinate system where the anthill is located at (x = 0cm, y = 0cm)? Provide us with a solution rounded to the nearest integer."
   ]
  },
  {
   "cell_type": "markdown",
   "id": "7ffee8d8-ace5-4fb6-86f6-60089b33c284",
   "metadata": {
    "tags": []
   },
   "source": [
    "## Solution"
   ]
  },
  {
   "cell_type": "markdown",
   "id": "61e9b96b-6dee-4cc8-942b-c4fbcfebc152",
   "metadata": {
    "tags": []
   },
   "source": [
    "### Importing Libraries"
   ]
  },
  {
   "cell_type": "code",
   "execution_count": 1,
   "id": "ba83d8ab-0904-4f90-aa48-c286a22c2b99",
   "metadata": {},
   "outputs": [],
   "source": [
    "import numpy as np\n",
    "import matplotlib.pyplot as plt"
   ]
  },
  {
   "cell_type": "markdown",
   "id": "05371658-bc72-4dc4-bcf1-094b39cd01ab",
   "metadata": {
    "tags": []
   },
   "source": [
    "### Approach"
   ]
  },
  {
   "cell_type": "markdown",
   "id": "6923ff2f-4fc8-44d4-89e1-4d151d02f55d",
   "metadata": {},
   "source": [
    "In order to solve this problem, we randomly generate various scenarios regarding the possible direction in which the ant could move at each step, in order to simulate the ant's complete path. \n",
    "\n",
    "We approach Parts 1 and 3 by calculating the average time across successively larger number of simulations (1000, 2000, 3000, ... , 10,000) to find the number of seconds towards which the average time converges. \n",
    "\n",
    "For part 2, since the food is located on a diagonal line which extends infinitely across both directions, the average time is infinite. That said, we provide an estimate of the percentage of simulations in which the ant reaches its food in 60, 120, 180, ..., 300 seconds.\n",
    "\n",
    "As mentioned in the question, we assume a speed of 10cm per second."
   ]
  },
  {
   "cell_type": "code",
   "execution_count": 2,
   "id": "f9eac869-7074-4606-b99e-2b5e8857a5d9",
   "metadata": {},
   "outputs": [],
   "source": [
    "simulations_lst = [i*1000 for i in range(1, 11)]\n",
    "speed = 10"
   ]
  },
  {
   "cell_type": "markdown",
   "id": "2b75ff75-109f-43f3-ade5-98a5b67d7467",
   "metadata": {
    "tags": []
   },
   "source": [
    "### Part 1"
   ]
  },
  {
   "cell_type": "code",
   "execution_count": 3,
   "id": "1bcf0556-4b6c-4ee4-8a2d-08b297984f94",
   "metadata": {},
   "outputs": [],
   "source": [
    "#1 for North, 2 for South, 3 for East, 4 for West\n",
    "food_loc1 = 20\n",
    "avg_time1 = []\n",
    "\n",
    "for simulations in simulations_lst:\n",
    "    position = np.zeros(shape = (simulations, 2))\n",
    "    time = np.zeros(shape = (simulations, 1))\n",
    "    \n",
    "    while True:\n",
    "        rand_dir = np.random.randint(low = 1, high = 5, size = simulations)\n",
    "\n",
    "        for i in range(simulations):\n",
    "            if np.any(abs(position[i]) == food_loc1): continue\n",
    "            \n",
    "            else:\n",
    "                if rand_dir[i] == 1: position[i, 0] += speed\n",
    "                elif rand_dir[i] == 2: position[i, 0] -= speed\n",
    "                elif rand_dir[i] == 3: position[i, 1] += speed\n",
    "                elif rand_dir[i] == 4: position[i, 1] -= speed\n",
    "\n",
    "                time[i, 0] += 1\n",
    "\n",
    "        food_reached = np.any(abs(position) == food_loc1, axis = 1)\n",
    "        food_reached_allsims = np.all(food_reached)\n",
    "\n",
    "        if food_reached_allsims: break\n",
    "        \n",
    "    avg_time1.append(np.mean(time))\n",
    "    #print(position)"
   ]
  },
  {
   "cell_type": "code",
   "execution_count": 4,
   "id": "f48ec5a3-45c3-4d0e-a3b0-37f713988dc8",
   "metadata": {},
   "outputs": [
    {
     "data": {
      "text/plain": [
       "[4.429,\n",
       " 4.464,\n",
       " 4.532666666666667,\n",
       " 4.52575,\n",
       " 4.5646,\n",
       " 4.525666666666667,\n",
       " 4.534285714285715,\n",
       " 4.5,\n",
       " 4.546111111111111,\n",
       " 4.4585]"
      ]
     },
     "execution_count": 4,
     "metadata": {},
     "output_type": "execute_result"
    }
   ],
   "source": [
    "avg_time1"
   ]
  },
  {
   "cell_type": "code",
   "execution_count": 5,
   "id": "7a58c4c5-3f77-4f73-bb78-5c277daac303",
   "metadata": {},
   "outputs": [
    {
     "data": {
      "text/plain": [
       "4.508058015873017"
      ]
     },
     "execution_count": 5,
     "metadata": {},
     "output_type": "execute_result"
    }
   ],
   "source": [
    "np.mean(avg_time1)"
   ]
  },
  {
   "cell_type": "code",
   "execution_count": 6,
   "id": "70eea573-f2bd-47f0-a74c-fbb0405467a5",
   "metadata": {},
   "outputs": [
    {
     "data": {
      "text/plain": [
       "Text(0, 0.5, 'Average time to reach food (seconds)')"
      ]
     },
     "execution_count": 6,
     "metadata": {},
     "output_type": "execute_result"
    },
    {
     "data": {
      "image/png": "[encoded data removed]",
      "text/plain": [
       "<Figure size 432x288 with 1 Axes>"
      ]
     },
     "metadata": {
      "needs_background": "light"
     },
     "output_type": "display_data"
    }
   ],
   "source": [
    "plt.plot(avg_time1)\n",
    "\n",
    "plt.title('Average time to reach food across progressively more simulations')\n",
    "plt.xlabel('Number of simulations (in 1000s)')\n",
    "plt.ylabel('Average time to reach food (seconds)')"
   ]
  },
  {
   "cell_type": "markdown",
   "id": "4a9c6eb0-8ba8-4cdc-b247-5da825d81519",
   "metadata": {},
   "source": [
    "As shown in the above plot, the average time tends the ant takes to reach its food tends to converge to 4.5 seconds. This is also validated by the mean of the average time across all simulation sets. **Therefore, it takes 4.5 seconds on average for the ant to reach its food if it is located on east-west lines 20cm to the north and 20cm to the south, as well as on north-south lines 20cm to the east and 20cm to the west from the anthill.**"
   ]
  },
  {
   "cell_type": "markdown",
   "id": "05f40de7-8f5c-455e-acbd-9f708b46b324",
   "metadata": {
    "tags": []
   },
   "source": [
    "### Part 2"
   ]
  },
  {
   "cell_type": "code",
   "execution_count": 13,
   "id": "961fce6e-f736-498d-9339-bdab3128febe",
   "metadata": {},
   "outputs": [
    {
     "name": "stdout",
     "output_type": "stream",
     "text": [
      "89.50% of ants reach the food after 60 seconds.\n",
      "93.20% of ants reach the food after 120 seconds.\n",
      "93.90% of ants reach the food after 180 seconds.\n",
      "95.40% of ants reach the food after 240 seconds.\n",
      "95.70% of ants reach the food after 300 seconds.\n"
     ]
    }
   ],
   "source": [
    "food_loc2 = 10\n",
    "time_lst = [60, 120, 180, 240, 300]\n",
    "simulations2 = 1000\n",
    "\n",
    "for t in time_lst:\n",
    "    position = np.zeros(shape = (simulations2, 2))\n",
    "    \n",
    "    for time in range(t):\n",
    "        rand_dir = np.random.randint(low = 1, high = 5, size = simulations2)\n",
    "\n",
    "        for i in range(simulations2):\n",
    "            if (position[i, 0] + position[i, 1]) == 10: continue\n",
    "\n",
    "            else:\n",
    "                if rand_dir[i] == 1: position[i, 0] += speed\n",
    "                elif rand_dir[i] == 2: position[i, 0] -= speed\n",
    "                elif rand_dir[i] == 3: position[i, 1] += speed\n",
    "                elif rand_dir[i] == 4: position[i, 1] -= speed\n",
    "\n",
    "\n",
    "        food_reached = (position[:, 0] + position[:, 1] == food_loc2)\n",
    "\n",
    "    print('{:.2f}% of ants reach the food after'.format(sum(food_reached)*100/len(food_reached)), t, 'seconds.')\n",
    "#print(position)"
   ]
  },
  {
   "cell_type": "markdown",
   "id": "3f9c4508-8613-49a8-a6b5-8f6633d50a1c",
   "metadata": {},
   "source": [
    "**Since the food is located on a diagonal line which extends infinitely across both directions, the average time in this case is infinite.**"
   ]
  },
  {
   "cell_type": "code",
   "execution_count": 8,
   "id": "0cbfa10f-0cb3-4877-8a8d-35a178efbb7c",
   "metadata": {},
   "outputs": [],
   "source": [
    "food_loc3 = 1\n",
    "avg_time3 = []\n",
    "\n",
    "for simulations in simulations_lst:\n",
    "    position = np.zeros(shape = (simulations, 2))\n",
    "    time = np.zeros(shape = (simulations, 1))\n",
    "    \n",
    "    while True:\n",
    "        rand_dir = np.random.randint(low = 1, high = 5, size = simulations)\n",
    "\n",
    "        for i in range(simulations):\n",
    "            if np.square((position[i, 0] - 2.5)/30) + np.square((position[i, 1] - 2.5)/40) >= food_loc3: continue\n",
    "            \n",
    "            else:\n",
    "                if rand_dir[i] == 1: position[i, 0] += speed\n",
    "                elif rand_dir[i] == 2: position[i, 0] -= speed\n",
    "                elif rand_dir[i] == 3: position[i, 1] += speed\n",
    "                elif rand_dir[i] == 4: position[i, 1] -= speed\n",
    "\n",
    "                time[i, 0] += 1\n",
    "\n",
    "        food_reached = (np.square((position[:, 0] - 2.5)/30) + np.square((position[:, 1] - 2.5)/40) >= food_loc3)\n",
    "        food_reached_allsims = np.all(food_reached)\n",
    "\n",
    "        if food_reached_allsims: break\n",
    "        #print(rand_dir)\n",
    "        #print(position)\n",
    "        #print(time)\n",
    "        #print(food_reached)\n",
    "        #print(food_reached_allsims)\n",
    "        \n",
    "    avg_time3.append(np.mean(time))\n",
    "    #print(position)"
   ]
  },
  {
   "cell_type": "code",
   "execution_count": 9,
   "id": "29385a20-7432-47ec-9a35-0c6762b3dd33",
   "metadata": {},
   "outputs": [
    {
     "data": {
      "text/plain": [
       "[13.41,\n",
       " 13.7665,\n",
       " 13.912,\n",
       " 13.9225,\n",
       " 13.9408,\n",
       " 14.0365,\n",
       " 14.083571428571428,\n",
       " 13.982125,\n",
       " 13.907444444444444,\n",
       " 13.9856]"
      ]
     },
     "execution_count": 9,
     "metadata": {},
     "output_type": "execute_result"
    }
   ],
   "source": [
    "avg_time3"
   ]
  },
  {
   "cell_type": "code",
   "execution_count": 10,
   "id": "065831b2-81db-4795-bf06-76e233a07e98",
   "metadata": {},
   "outputs": [
    {
     "data": {
      "text/plain": [
       "13.894704087301587"
      ]
     },
     "execution_count": 10,
     "metadata": {},
     "output_type": "execute_result"
    }
   ],
   "source": [
    "np.mean(avg_time3)"
   ]
  },
  {
   "cell_type": "code",
   "execution_count": 11,
   "id": "03dc7c7d-7bb1-41f0-8b94-c88e53884e25",
   "metadata": {},
   "outputs": [
    {
     "data": {
      "text/plain": [
       "Text(0, 0.5, 'Average time to reach food (seconds)')"
      ]
     },
     "execution_count": 11,
     "metadata": {},
     "output_type": "execute_result"
    },
    {
     "data": {
      "image/png": "[encoded data removed]",
      "text/plain": [
       "<Figure size 432x288 with 1 Axes>"
      ]
     },
     "metadata": {
      "needs_background": "light"
     },
     "output_type": "display_data"
    }
   ],
   "source": [
    "plt.plot(avg_time3)\n",
    "plt.title('Average time to reach food across progressively more simulations')\n",
    "plt.xlabel('Number of simulations (in 1000s)')\n",
    "plt.ylabel('Average time to reach food (seconds)')"
   ]
  },
  {
   "cell_type": "markdown",
   "id": "4fa65b24-e30f-450e-9c82-3137e63a82fb",
   "metadata": {},
   "source": [
    "As shown in the above plot, the average time tends the ant takes to reach its food tends to converge to 14 seconds. This is also validated by the mean of the average time across all simulation sets. **Therefore, it takes 14 seconds on average for the ant to reach its food if it is located outside a boundary defined by $\\big((x - 2.5) / 30\\big)^2 + \\big((x - 2.5) / 40\\big)^2 < 1$ in coordinate system where the anthill is located at (x = 0cm, y = 0cm).**"
   ]
  }
 ],
 "metadata": {
  "kernelspec": {
   "display_name": "Python 3 (ipykernel)",
   "language": "python",
   "name": "python3"
  },
  "language_info": {
   "codemirror_mode": {
    "name": "ipython",
    "version": 3
   },
   "file_extension": ".py",
   "mimetype": "text/x-python",
   "name": "python",
   "nbconvert_exporter": "python",
   "pygments_lexer": "ipython3",
   "version": "3.9.7"
  }
 },
 "nbformat": 4,
 "nbformat_minor": 5
}
